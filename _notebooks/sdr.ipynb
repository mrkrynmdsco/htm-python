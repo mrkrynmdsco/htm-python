{
 "cells": [
  {
   "cell_type": "code",
   "execution_count": 1,
   "metadata": {},
   "outputs": [],
   "source": [
    "%load_ext autoreload\n",
    "%autoreload 2\n",
    "%matplotlib inline"
   ]
  },
  {
   "cell_type": "code",
   "execution_count": 2,
   "metadata": {},
   "outputs": [],
   "source": [
    "import os\n",
    "import sys\n",
    "sys.path.insert(0, os.path.abspath('../'))"
   ]
  },
  {
   "cell_type": "code",
   "execution_count": 3,
   "metadata": {},
   "outputs": [],
   "source": [
    "from htm.types.sdr import SDR"
   ]
  },
  {
   "cell_type": "code",
   "execution_count": 4,
   "metadata": {},
   "outputs": [],
   "source": [
    "mySDR = SDR(n=16384, s=0.01975)"
   ]
  },
  {
   "cell_type": "code",
   "execution_count": 5,
   "metadata": {},
   "outputs": [],
   "source": [
    "mySDR.random_sparse()"
   ]
  },
  {
   "cell_type": "code",
   "execution_count": 6,
   "metadata": {},
   "outputs": [
    {
     "data": {
      "text/plain": [
       "array([   41,    75,   124,   169,   182,   343,   414,   452,   538,\n",
       "         581,   674,   756,   773,   782,   783,   836,   878,   929,\n",
       "         935,   990,  1037,  1059,  1080,  1100,  1203,  1285,  1287,\n",
       "        1406,  1439,  1557,  1567,  1731,  1739,  1792,  1863,  1876,\n",
       "        1943,  2011,  2044,  2089,  2150,  2207,  2235,  2239,  2263,\n",
       "        2296,  2381,  2392,  2417,  2433,  2514,  2613,  2620,  2645,\n",
       "        2689,  2731,  2732,  2746,  2818,  2826,  2852,  2893,  2948,\n",
       "        2960,  3022,  3057,  3141,  3167,  3201,  3210,  3258,  3318,\n",
       "        3322,  3334,  3345,  3439,  3490,  3555,  3578,  3720,  3814,\n",
       "        3826,  3893,  3950,  4007,  4015,  4080,  4112,  4165,  4254,\n",
       "        4261,  4295,  4404,  4432,  4503,  4554,  4559,  4570,  4619,\n",
       "        4789,  4885,  4893,  4934,  4982,  4990,  5000,  5013,  5040,\n",
       "        5057,  5061,  5101,  5130,  5178,  5197,  5208,  5246,  5332,\n",
       "        5458,  5465,  5491,  5594,  5633,  5634,  5665,  5715,  5733,\n",
       "        5751,  5758,  5804,  5814,  5841,  5917,  5970,  5996,  6051,\n",
       "        6064,  6092,  6166,  6378,  6474,  6503,  6511,  6587,  6738,\n",
       "        6741,  6839,  6915,  6949,  6981,  7023,  7097,  7104,  7163,\n",
       "        7223,  7257,  7258,  7261,  7272,  7379,  7385,  7412,  7434,\n",
       "        7482,  7535,  7538,  7544,  7555,  7633,  7636,  7659,  7731,\n",
       "        7740,  7780,  7821,  7867,  7900,  7937,  8009,  8011,  8076,\n",
       "        8140,  8160,  8165,  8251,  8272,  8315,  8366,  8465,  8492,\n",
       "        8499,  8548,  8551,  8581,  8604,  8643,  8665,  8710,  8818,\n",
       "        8843,  8849,  8874,  8887,  8963,  9068,  9176,  9188,  9202,\n",
       "        9219,  9284,  9292,  9339,  9350,  9362,  9376,  9441,  9461,\n",
       "        9469,  9488,  9523,  9591,  9632,  9636,  9778,  9864,  9937,\n",
       "        9951, 10132, 10200, 10255, 10342, 10367, 10381, 10448, 10571,\n",
       "       10612, 10658, 10697, 10773, 11269, 11302, 11369, 11396, 11434,\n",
       "       11563, 11584, 11593, 11613, 11638, 11685, 11746, 11809, 11865,\n",
       "       11884, 11893, 11901, 11922, 11978, 12001, 12083, 12273, 12308,\n",
       "       12332, 12335, 12365, 12425, 12495, 12520, 12529, 12638, 12661,\n",
       "       12869, 12965, 13041, 13330, 13375, 13396, 13397, 13499, 13548,\n",
       "       13591, 13701, 13817, 13823, 13829, 14068, 14122, 14302, 14439,\n",
       "       14461, 14465, 14469, 14532, 14617, 14739, 14743, 14848, 14871,\n",
       "       14981, 15066, 15137, 15141, 15170, 15240, 15292, 15371, 15384,\n",
       "       15450, 15538, 15541, 15545, 15608, 15656, 15708, 15775, 15824,\n",
       "       15901, 16019, 16052, 16185, 16206, 16244, 16257, 16290, 16375])"
      ]
     },
     "execution_count": 6,
     "metadata": {},
     "output_type": "execute_result"
    }
   ],
   "source": [
    "mySDR.sparse()"
   ]
  },
  {
   "cell_type": "code",
   "execution_count": 7,
   "metadata": {},
   "outputs": [
    {
     "name": "stdout",
     "output_type": "stream",
     "text": [
      "Sparse Distributed Representation\n",
      "size: 16384\n",
      "on-bits: 324\n",
      "sparsity: 1.975 %\n"
     ]
    }
   ],
   "source": [
    "mySDR.info()"
   ]
  },
  {
   "cell_type": "code",
   "execution_count": 8,
   "metadata": {},
   "outputs": [
    {
     "name": "stdout",
     "output_type": "stream",
     "text": [
      "Dense Representation (re-shaped)\n",
      "dtype: bool\n",
      "ndim: 2\n",
      "strides: (128, 1)\n",
      "shape: (128, 128)\n",
      "size: 16384\n",
      "data: <memory at 0x0000019F2D8659E8>\n"
     ]
    },
    {
     "data": {
      "image/png": "[encoded data removed]",
      "text/plain": [
       "<Figure size 648x648 with 1 Axes>"
      ]
     },
     "metadata": {
      "needs_background": "light"
     },
     "output_type": "display_data"
    }
   ],
   "source": [
    "mySDR.show((128, 128), figsize=(9, 9))"
   ]
  }
 ],
 "metadata": {
  "kernelspec": {
   "display_name": "Python 3",
   "language": "python",
   "name": "python3"
  },
  "language_info": {
   "codemirror_mode": {
    "name": "ipython",
    "version": 3
   },
   "file_extension": ".py",
   "mimetype": "text/x-python",
   "name": "python",
   "nbconvert_exporter": "python",
   "pygments_lexer": "ipython3",
   "version": "3.7.6"
  }
 },
 "nbformat": 4,
 "nbformat_minor": 4
}
