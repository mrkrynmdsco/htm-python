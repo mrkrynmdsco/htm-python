{
 "cells": [
  {
   "cell_type": "code",
   "execution_count": 1,
   "metadata": {},
   "outputs": [],
   "source": [
    "%load_ext autoreload\n",
    "%autoreload 2\n",
    "%matplotlib inline"
   ]
  },
  {
   "cell_type": "code",
   "execution_count": 2,
   "metadata": {},
   "outputs": [],
   "source": [
    "import os\n",
    "import sys\n",
    "sys.path.insert(0, os.path.abspath('../'))"
   ]
  },
  {
   "cell_type": "code",
   "execution_count": 3,
   "metadata": {},
   "outputs": [],
   "source": [
    "from htm.types.sdr import SDR"
   ]
  },
  {
   "cell_type": "code",
   "execution_count": 4,
   "metadata": {},
   "outputs": [],
   "source": [
    "mySDR = SDR(n=4096, s=0.01975)"
   ]
  },
  {
   "cell_type": "code",
   "execution_count": 5,
   "metadata": {},
   "outputs": [
    {
     "name": "stdout",
     "output_type": "stream",
     "text": [
      "size: 4096\n",
      "on-bits: 81\n",
      "sparsity: 1.975 %\n"
     ]
    }
   ],
   "source": [
    "mySDR.info()"
   ]
  },
  {
   "cell_type": "code",
   "execution_count": 6,
   "metadata": {},
   "outputs": [],
   "source": [
    "mySDR.random_sparse()"
   ]
  },
  {
   "cell_type": "code",
   "execution_count": 7,
   "metadata": {},
   "outputs": [
    {
     "data": {
      "text/plain": [
       "array([  10,   18,   46,  195,  222,  235,  247,  392,  453,  664,  679,\n",
       "        686,  691,  710,  726,  743,  772,  812,  845,  876,  980, 1012,\n",
       "       1020, 1077, 1112, 1139, 1145, 1211, 1232, 1241, 1248, 1278, 1368,\n",
       "       1375, 1423, 1446, 1449, 1464, 1537, 1639, 1770, 1793, 1823, 1839,\n",
       "       1851, 1858, 1874, 1893, 1933, 1938, 2009, 2034, 2052, 2092, 2173,\n",
       "       2180, 2212, 2247, 2344, 2356, 2373, 2400, 2469, 2604, 2827, 2906,\n",
       "       3048, 3069, 3145, 3257, 3382, 3392, 3576, 3578, 3653, 3708, 3822,\n",
       "       3853, 3929, 4055, 4061])"
      ]
     },
     "execution_count": 7,
     "metadata": {},
     "output_type": "execute_result"
    }
   ],
   "source": [
    "mySDR.sparse()"
   ]
  },
  {
   "cell_type": "code",
   "execution_count": 8,
   "metadata": {},
   "outputs": [
    {
     "data": {
      "image/png": "[encoded data removed]",
      "text/plain": [
       "<Figure size 1152x1152 with 1 Axes>"
      ]
     },
     "metadata": {
      "needs_background": "light"
     },
     "output_type": "display_data"
    }
   ],
   "source": [
    "mySDR.show((32, 128), figsize=(16, 16))"
   ]
  }
 ],
 "metadata": {
  "kernelspec": {
   "display_name": "Python 3",
   "language": "python",
   "name": "python3"
  },
  "language_info": {
   "codemirror_mode": {
    "name": "ipython",
    "version": 3
   },
   "file_extension": ".py",
   "mimetype": "text/x-python",
   "name": "python",
   "nbconvert_exporter": "python",
   "pygments_lexer": "ipython3",
   "version": "3.7.4"
  }
 },
 "nbformat": 4,
 "nbformat_minor": 4
}
